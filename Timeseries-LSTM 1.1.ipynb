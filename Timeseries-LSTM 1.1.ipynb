{
 "cells": [
  {
   "cell_type": "code",
   "execution_count": 1,
   "id": "c0882d79",
   "metadata": {},
   "outputs": [],
   "source": [
    "import numpy as np\n",
    "from tensorflow.keras.models import Sequential\n",
    "from tensorflow.keras.layers import LSTM\n",
    "from tensorflow.keras.layers import Dense, Dropout\n",
    "import pandas as pd\n",
    "from matplotlib import pyplot as plt\n",
    "from sklearn.preprocessing import MinMaxScaler,StandardScaler\n",
    "import seaborn as sns\n",
    "from datetime import datetime"
   ]
  },
  {
   "cell_type": "code",
   "execution_count": 2,
   "id": "d7dab9a9",
   "metadata": {},
   "outputs": [
    {
     "name": "stderr",
     "output_type": "stream",
     "text": [
      "C:\\Users\\Rshs\\AppData\\Local\\Temp/ipykernel_10144/1666060968.py:1: FutureWarning: The pandas.datetime class is deprecated and will be removed from pandas in a future version. Import from datetime module instead.\n",
      "  dateparse = lambda dates: pd.datetime.strptime(dates, '%Y-%m-%d')\n"
     ]
    },
    {
     "data": {
      "text/html": [
       "<div>\n",
       "<style scoped>\n",
       "    .dataframe tbody tr th:only-of-type {\n",
       "        vertical-align: middle;\n",
       "    }\n",
       "\n",
       "    .dataframe tbody tr th {\n",
       "        vertical-align: top;\n",
       "    }\n",
       "\n",
       "    .dataframe thead th {\n",
       "        text-align: right;\n",
       "    }\n",
       "</style>\n",
       "<table border=\"1\" class=\"dataframe\">\n",
       "  <thead>\n",
       "    <tr style=\"text-align: right;\">\n",
       "      <th></th>\n",
       "      <th>Date</th>\n",
       "      <th>Symbol</th>\n",
       "      <th>Series</th>\n",
       "      <th>Prev Close</th>\n",
       "      <th>Open</th>\n",
       "      <th>High</th>\n",
       "      <th>Low</th>\n",
       "      <th>Last</th>\n",
       "      <th>Close</th>\n",
       "      <th>VWAP</th>\n",
       "      <th>Volume</th>\n",
       "      <th>Turnover</th>\n",
       "      <th>Trades</th>\n",
       "      <th>Deliverable Volume</th>\n",
       "      <th>%Deliverble</th>\n",
       "    </tr>\n",
       "  </thead>\n",
       "  <tbody>\n",
       "    <tr>\n",
       "      <th>0</th>\n",
       "      <td>2004-08-25</td>\n",
       "      <td>TCS</td>\n",
       "      <td>EQ</td>\n",
       "      <td>850.00</td>\n",
       "      <td>1198.7</td>\n",
       "      <td>1198.7</td>\n",
       "      <td>979.00</td>\n",
       "      <td>985.00</td>\n",
       "      <td>987.95</td>\n",
       "      <td>1008.32</td>\n",
       "      <td>17116372</td>\n",
       "      <td>1.725876e+15</td>\n",
       "      <td>NaN</td>\n",
       "      <td>5206360</td>\n",
       "      <td>0.3042</td>\n",
       "    </tr>\n",
       "    <tr>\n",
       "      <th>1</th>\n",
       "      <td>2004-08-26</td>\n",
       "      <td>TCS</td>\n",
       "      <td>EQ</td>\n",
       "      <td>987.95</td>\n",
       "      <td>992.0</td>\n",
       "      <td>997.0</td>\n",
       "      <td>975.30</td>\n",
       "      <td>976.85</td>\n",
       "      <td>979.00</td>\n",
       "      <td>985.65</td>\n",
       "      <td>5055400</td>\n",
       "      <td>4.982865e+14</td>\n",
       "      <td>NaN</td>\n",
       "      <td>1294899</td>\n",
       "      <td>0.2561</td>\n",
       "    </tr>\n",
       "    <tr>\n",
       "      <th>2</th>\n",
       "      <td>2004-08-27</td>\n",
       "      <td>TCS</td>\n",
       "      <td>EQ</td>\n",
       "      <td>979.00</td>\n",
       "      <td>982.4</td>\n",
       "      <td>982.4</td>\n",
       "      <td>958.55</td>\n",
       "      <td>961.20</td>\n",
       "      <td>962.65</td>\n",
       "      <td>969.94</td>\n",
       "      <td>3830750</td>\n",
       "      <td>3.715586e+14</td>\n",
       "      <td>NaN</td>\n",
       "      <td>976527</td>\n",
       "      <td>0.2549</td>\n",
       "    </tr>\n",
       "    <tr>\n",
       "      <th>3</th>\n",
       "      <td>2004-08-30</td>\n",
       "      <td>TCS</td>\n",
       "      <td>EQ</td>\n",
       "      <td>962.65</td>\n",
       "      <td>969.9</td>\n",
       "      <td>990.0</td>\n",
       "      <td>965.00</td>\n",
       "      <td>986.40</td>\n",
       "      <td>986.75</td>\n",
       "      <td>982.65</td>\n",
       "      <td>3058151</td>\n",
       "      <td>3.005106e+14</td>\n",
       "      <td>NaN</td>\n",
       "      <td>701664</td>\n",
       "      <td>0.2294</td>\n",
       "    </tr>\n",
       "    <tr>\n",
       "      <th>4</th>\n",
       "      <td>2004-08-31</td>\n",
       "      <td>TCS</td>\n",
       "      <td>EQ</td>\n",
       "      <td>986.75</td>\n",
       "      <td>986.5</td>\n",
       "      <td>990.0</td>\n",
       "      <td>976.00</td>\n",
       "      <td>987.80</td>\n",
       "      <td>988.10</td>\n",
       "      <td>982.18</td>\n",
       "      <td>2649332</td>\n",
       "      <td>2.602133e+14</td>\n",
       "      <td>NaN</td>\n",
       "      <td>695234</td>\n",
       "      <td>0.2624</td>\n",
       "    </tr>\n",
       "  </tbody>\n",
       "</table>\n",
       "</div>"
      ],
      "text/plain": [
       "        Date Symbol Series  Prev Close    Open    High     Low    Last  \\\n",
       "0 2004-08-25    TCS     EQ      850.00  1198.7  1198.7  979.00  985.00   \n",
       "1 2004-08-26    TCS     EQ      987.95   992.0   997.0  975.30  976.85   \n",
       "2 2004-08-27    TCS     EQ      979.00   982.4   982.4  958.55  961.20   \n",
       "3 2004-08-30    TCS     EQ      962.65   969.9   990.0  965.00  986.40   \n",
       "4 2004-08-31    TCS     EQ      986.75   986.5   990.0  976.00  987.80   \n",
       "\n",
       "    Close     VWAP    Volume      Turnover  Trades  Deliverable Volume  \\\n",
       "0  987.95  1008.32  17116372  1.725876e+15     NaN             5206360   \n",
       "1  979.00   985.65   5055400  4.982865e+14     NaN             1294899   \n",
       "2  962.65   969.94   3830750  3.715586e+14     NaN              976527   \n",
       "3  986.75   982.65   3058151  3.005106e+14     NaN              701664   \n",
       "4  988.10   982.18   2649332  2.602133e+14     NaN              695234   \n",
       "\n",
       "   %Deliverble  \n",
       "0       0.3042  \n",
       "1       0.2561  \n",
       "2       0.2549  \n",
       "3       0.2294  \n",
       "4       0.2624  "
      ]
     },
     "execution_count": 2,
     "metadata": {},
     "output_type": "execute_result"
    }
   ],
   "source": [
    "dateparse = lambda dates: pd.datetime.strptime(dates, '%Y-%m-%d')\n",
    "df = pd.read_csv('C:/Users/Rshs/Documents/python notebooks/mldatasets/TCS.csv',sep=',', parse_dates=['Date'], date_parser=dateparse)\n",
    "df.head()"
   ]
  },
  {
   "cell_type": "code",
   "execution_count": 3,
   "id": "69edbffa",
   "metadata": {},
   "outputs": [
    {
     "name": "stdout",
     "output_type": "stream",
     "text": [
      "4272   2021-11-09\n",
      "4273   2021-11-10\n",
      "4274   2021-11-11\n",
      "4275   2021-11-12\n",
      "4276   2021-11-15\n",
      "4277   2021-11-16\n",
      "4278   2021-11-17\n",
      "4279   2021-11-18\n",
      "4280   2021-11-22\n",
      "4281   2021-11-23\n",
      "4282   2021-11-24\n",
      "4283   2021-11-25\n",
      "4284   2021-11-26\n",
      "4285   2021-11-29\n",
      "4286   2021-11-30\n",
      "Name: Date, dtype: datetime64[ns]\n"
     ]
    }
   ],
   "source": [
    "train_dates = pd.to_datetime(df['Date'])\n",
    "print(train_dates.tail(15))"
   ]
  },
  {
   "cell_type": "code",
   "execution_count": 4,
   "id": "b9ea4af7",
   "metadata": {},
   "outputs": [
    {
     "data": {
      "image/png": "[encoded data removed]",
      "text/plain": [
       "<Figure size 432x288 with 1 Axes>"
      ]
     },
     "metadata": {
      "needs_background": "light"
     },
     "output_type": "display_data"
    }
   ],
   "source": [
    "from pandas.plotting import autocorrelation_plot\n",
    "\n",
    "autocorrelation_plot(df['Close'])\n",
    "plt.show()\n"
   ]
  },
  {
   "cell_type": "code",
   "execution_count": 5,
   "id": "cc32acdf",
   "metadata": {},
   "outputs": [
    {
     "data": {
      "image/png": "[encoded data removed]",
      "text/plain": [
       "<Figure size 432x288 with 1 Axes>"
      ]
     },
     "metadata": {
      "needs_background": "light"
     },
     "output_type": "display_data"
    }
   ],
   "source": [
    "# Autocorrelation\n",
    "from statsmodels.graphics.tsaplots import plot_acf,plot_pacf\n",
    "plot_acf(df['Close'],lags=25,title=\"Close Price\")\n",
    "plt.show()"
   ]
  },
  {
   "cell_type": "code",
   "execution_count": 6,
   "id": "803bd47f",
   "metadata": {},
   "outputs": [
    {
     "data": {
      "image/png": "[encoded data removed]",
      "text/plain": [
       "<Figure size 432x288 with 1 Axes>"
      ]
     },
     "metadata": {
      "needs_background": "light"
     },
     "output_type": "display_data"
    }
   ],
   "source": [
    "plot_pacf(df[\"Close\"],lags=25)\n",
    "plt.show()"
   ]
  },
  {
   "cell_type": "code",
   "execution_count": 7,
   "id": "3932b973",
   "metadata": {},
   "outputs": [
    {
     "name": "stdout",
     "output_type": "stream",
     "text": [
      "['Prev Close', 'Open', 'High', 'Low', 'Last', 'Close']\n"
     ]
    }
   ],
   "source": [
    "#Variables for training\n",
    "cols = list(df)[3:9]\n",
    "#Date and volume columns are not used in training. \n",
    "print(cols) #['Prev Close', 'Open', 'High', 'Low', 'Last', 'Close']"
   ]
  },
  {
   "cell_type": "code",
   "execution_count": 8,
   "id": "2180d414",
   "metadata": {},
   "outputs": [],
   "source": [
    "df_for_training = df[cols].astype(float)"
   ]
  },
  {
   "cell_type": "code",
   "execution_count": 9,
   "id": "43d8e07f",
   "metadata": {},
   "outputs": [],
   "source": [
    "scaler = StandardScaler()\n",
    "scaler = scaler.fit(df_for_training)\n",
    "df_for_training_scaled = scaler.transform(df_for_training)"
   ]
  },
  {
   "cell_type": "code",
   "execution_count": 10,
   "id": "9eb377a7",
   "metadata": {},
   "outputs": [],
   "source": [
    "trainX = []\n",
    "trainY = []\n",
    "\n",
    "n_future = 1   # Number of days we want to look into the future based on the past days.\n",
    "n_past = 14  # Number of past days we want to use to predict the future."
   ]
  },
  {
   "cell_type": "code",
   "execution_count": 11,
   "id": "5d8c4d96",
   "metadata": {},
   "outputs": [
    {
     "name": "stdout",
     "output_type": "stream",
     "text": [
      "trainX shape == (4273, 14, 6).\n",
      "trainY shape == (4273, 1).\n"
     ]
    }
   ],
   "source": [
    "for i in range(n_past, len(df_for_training_scaled) - n_future +1):\n",
    "    trainX.append(df_for_training_scaled[i - n_past:i, 0:df_for_training.shape[1]])\n",
    "    trainY.append(df_for_training_scaled[i + n_future - 1:i + n_future, 0])\n",
    "\n",
    "trainX, trainY = np.array(trainX), np.array(trainY)\n",
    "\n",
    "print('trainX shape == {}.'.format(trainX.shape))\n",
    "print('trainY shape == {}.'.format(trainY.shape))\n"
   ]
  },
  {
   "cell_type": "code",
   "execution_count": 12,
   "id": "e01c9458",
   "metadata": {},
   "outputs": [
    {
     "name": "stdout",
     "output_type": "stream",
     "text": [
      "Model: \"sequential\"\n",
      "_________________________________________________________________\n",
      " Layer (type)                Output Shape              Param #   \n",
      "=================================================================\n",
      " lstm (LSTM)                 (None, 14, 64)            18176     \n",
      "                                                                 \n",
      " lstm_1 (LSTM)               (None, 32)                12416     \n",
      "                                                                 \n",
      " dropout (Dropout)           (None, 32)                0         \n",
      "                                                                 \n",
      " dense (Dense)               (None, 1)                 33        \n",
      "                                                                 \n",
      "=================================================================\n",
      "Total params: 30,625\n",
      "Trainable params: 30,625\n",
      "Non-trainable params: 0\n",
      "_________________________________________________________________\n"
     ]
    }
   ],
   "source": [
    "model = Sequential()\n",
    "model.add(LSTM(64, activation='relu', input_shape=(trainX.shape[1], trainX.shape[2]), return_sequences=True))\n",
    "model.add(LSTM(32, activation='relu', return_sequences=False))\n",
    "model.add(Dropout(0.2))\n",
    "model.add(Dense(trainY.shape[1]))\n",
    "\n",
    "model.compile(optimizer='adam', loss='mse')\n",
    "model.summary()"
   ]
  },
  {
   "cell_type": "code",
   "execution_count": 13,
   "id": "65c8cded",
   "metadata": {
    "scrolled": false
   },
   "outputs": [
    {
     "name": "stdout",
     "output_type": "stream",
     "text": [
      "Epoch 1/5\n",
      "1923/1923 [==============================] - 40s 19ms/step - loss: 0.0436 - val_loss: 0.0217\n",
      "Epoch 2/5\n",
      "1923/1923 [==============================] - 36s 19ms/step - loss: 0.0289 - val_loss: 0.0056\n",
      "Epoch 3/5\n",
      "1923/1923 [==============================] - 37s 19ms/step - loss: 0.0286 - val_loss: 0.0223\n",
      "Epoch 4/5\n",
      "1923/1923 [==============================] - 38s 20ms/step - loss: 0.0262 - val_loss: 0.0365\n",
      "Epoch 5/5\n",
      "1923/1923 [==============================] - 36s 19ms/step - loss: 0.0244 - val_loss: 0.0143\n"
     ]
    }
   ],
   "source": [
    "history = model.fit(trainX, trainY, epochs=5, batch_size=2, validation_split=0.1, verbose=1)\n",
    "\n"
   ]
  },
  {
   "cell_type": "code",
   "execution_count": 14,
   "id": "1e366187",
   "metadata": {},
   "outputs": [],
   "source": [
    "pre = model.predict(trainX)"
   ]
  },
  {
   "cell_type": "code",
   "execution_count": 15,
   "id": "2fdcfb1c",
   "metadata": {},
   "outputs": [],
   "source": [
    "n_past = 2\n",
    "n_days_for_prediction=10"
   ]
  },
  {
   "cell_type": "code",
   "execution_count": 39,
   "id": "3f28291c",
   "metadata": {},
   "outputs": [],
   "source": [
    "prediction = model.predict(trainX[-n_days_for_prediction:]) #\n",
    "#prediction = model.predict(trainX[-n_past:])"
   ]
  },
  {
   "cell_type": "code",
   "execution_count": 40,
   "id": "aabcffc4",
   "metadata": {},
   "outputs": [],
   "source": [
    "prediction_copies = np.repeat(prediction, df_for_training.shape[1], axis=-1)\n",
    "y_pred_future = scaler.inverse_transform(prediction_copies)[:,0]"
   ]
  },
  {
   "cell_type": "code",
   "execution_count": 41,
   "id": "a47b43c4",
   "metadata": {},
   "outputs": [
    {
     "data": {
      "image/png": "[encoded data removed]",
      "text/plain": [
       "<Figure size 432x288 with 1 Axes>"
      ]
     },
     "metadata": {
      "needs_background": "light"
     },
     "output_type": "display_data"
    }
   ],
   "source": [
    "plt.plot(prediction, label='LSTM Value')\n",
    "plt.title(\"Prediction by LSTM\")\n",
    "plt.legend()\n",
    "plt.show()"
   ]
  },
  {
   "cell_type": "code",
   "execution_count": 46,
   "id": "c8ea90ac",
   "metadata": {},
   "outputs": [],
   "source": [
    "index = pd.DataFrame({'Date':['2021-12-01','2021-12-02','2021-12-03','2021-12-04','2021-12-05','2021-12-06','2021-12-07','2021-12-08','2021-12-09','2021-12-10']})"
   ]
  },
  {
   "cell_type": "code",
   "execution_count": 47,
   "id": "7d503422",
   "metadata": {
    "scrolled": true
   },
   "outputs": [
    {
     "data": {
      "text/html": [
       "<div>\n",
       "<style scoped>\n",
       "    .dataframe tbody tr th:only-of-type {\n",
       "        vertical-align: middle;\n",
       "    }\n",
       "\n",
       "    .dataframe tbody tr th {\n",
       "        vertical-align: top;\n",
       "    }\n",
       "\n",
       "    .dataframe thead th {\n",
       "        text-align: right;\n",
       "    }\n",
       "</style>\n",
       "<table border=\"1\" class=\"dataframe\">\n",
       "  <thead>\n",
       "    <tr style=\"text-align: right;\">\n",
       "      <th></th>\n",
       "    </tr>\n",
       "    <tr>\n",
       "      <th>Date</th>\n",
       "    </tr>\n",
       "  </thead>\n",
       "  <tbody>\n",
       "    <tr>\n",
       "      <th>2021-12-01</th>\n",
       "    </tr>\n",
       "    <tr>\n",
       "      <th>2021-12-02</th>\n",
       "    </tr>\n",
       "    <tr>\n",
       "      <th>2021-12-03</th>\n",
       "    </tr>\n",
       "    <tr>\n",
       "      <th>2021-12-04</th>\n",
       "    </tr>\n",
       "    <tr>\n",
       "      <th>2021-12-05</th>\n",
       "    </tr>\n",
       "  </tbody>\n",
       "</table>\n",
       "</div>"
      ],
      "text/plain": [
       "Empty DataFrame\n",
       "Columns: []\n",
       "Index: [2021-12-01 00:00:00, 2021-12-02 00:00:00, 2021-12-03 00:00:00, 2021-12-04 00:00:00, 2021-12-05 00:00:00]"
      ]
     },
     "execution_count": 47,
     "metadata": {},
     "output_type": "execute_result"
    }
   ],
   "source": [
    "index['Date']=pd.to_datetime(index['Date'],infer_datetime_format=True)\n",
    "index=index.set_index(['Date'])\n",
    "from datetime import datetime\n",
    "index.head()"
   ]
  },
  {
   "cell_type": "code",
   "execution_count": 48,
   "id": "dc0981ee",
   "metadata": {},
   "outputs": [],
   "source": [
    "index['Close'] = y_pred_future\n"
   ]
  },
  {
   "cell_type": "code",
   "execution_count": 52,
   "id": "207d766c",
   "metadata": {},
   "outputs": [
    {
     "data": {
      "text/html": [
       "<div>\n",
       "<style scoped>\n",
       "    .dataframe tbody tr th:only-of-type {\n",
       "        vertical-align: middle;\n",
       "    }\n",
       "\n",
       "    .dataframe tbody tr th {\n",
       "        vertical-align: top;\n",
       "    }\n",
       "\n",
       "    .dataframe thead th {\n",
       "        text-align: right;\n",
       "    }\n",
       "</style>\n",
       "<table border=\"1\" class=\"dataframe\">\n",
       "  <thead>\n",
       "    <tr style=\"text-align: right;\">\n",
       "      <th></th>\n",
       "      <th>Close</th>\n",
       "    </tr>\n",
       "    <tr>\n",
       "      <th>Date</th>\n",
       "      <th></th>\n",
       "    </tr>\n",
       "  </thead>\n",
       "  <tbody>\n",
       "    <tr>\n",
       "      <th>2021-12-01</th>\n",
       "      <td>3633.388672</td>\n",
       "    </tr>\n",
       "    <tr>\n",
       "      <th>2021-12-02</th>\n",
       "      <td>3644.555664</td>\n",
       "    </tr>\n",
       "    <tr>\n",
       "      <th>2021-12-03</th>\n",
       "      <td>3632.047607</td>\n",
       "    </tr>\n",
       "    <tr>\n",
       "      <th>2021-12-04</th>\n",
       "      <td>3603.736572</td>\n",
       "    </tr>\n",
       "    <tr>\n",
       "      <th>2021-12-05</th>\n",
       "      <td>3590.989502</td>\n",
       "    </tr>\n",
       "    <tr>\n",
       "      <th>2021-12-06</th>\n",
       "      <td>3579.594482</td>\n",
       "    </tr>\n",
       "    <tr>\n",
       "      <th>2021-12-07</th>\n",
       "      <td>3571.901367</td>\n",
       "    </tr>\n",
       "    <tr>\n",
       "      <th>2021-12-08</th>\n",
       "      <td>3566.522461</td>\n",
       "    </tr>\n",
       "    <tr>\n",
       "      <th>2021-12-09</th>\n",
       "      <td>3562.177979</td>\n",
       "    </tr>\n",
       "    <tr>\n",
       "      <th>2021-12-10</th>\n",
       "      <td>3583.029785</td>\n",
       "    </tr>\n",
       "  </tbody>\n",
       "</table>\n",
       "</div>"
      ],
      "text/plain": [
       "                  Close\n",
       "Date                   \n",
       "2021-12-01  3633.388672\n",
       "2021-12-02  3644.555664\n",
       "2021-12-03  3632.047607\n",
       "2021-12-04  3603.736572\n",
       "2021-12-05  3590.989502\n",
       "2021-12-06  3579.594482\n",
       "2021-12-07  3571.901367\n",
       "2021-12-08  3566.522461\n",
       "2021-12-09  3562.177979\n",
       "2021-12-10  3583.029785"
      ]
     },
     "execution_count": 52,
     "metadata": {},
     "output_type": "execute_result"
    }
   ],
   "source": [
    "index"
   ]
  },
  {
   "cell_type": "code",
   "execution_count": 49,
   "id": "4fe4f1b1",
   "metadata": {},
   "outputs": [
    {
     "data": {
      "text/plain": [
       "<AxesSubplot:xlabel='Date'>"
      ]
     },
     "execution_count": 49,
     "metadata": {},
     "output_type": "execute_result"
    },
    {
     "data": {
      "image/png": "[encoded data removed]",
      "text/plain": [
       "<Figure size 432x288 with 1 Axes>"
      ]
     },
     "metadata": {
      "needs_background": "light"
     },
     "output_type": "display_data"
    }
   ],
   "source": [
    "index.plot()"
   ]
  },
  {
   "cell_type": "code",
   "execution_count": 50,
   "id": "2bc03c24",
   "metadata": {},
   "outputs": [
    {
     "name": "stderr",
     "output_type": "stream",
     "text": [
      "C:\\Users\\Rshs\\AppData\\Local\\Temp/ipykernel_10144/3994254061.py:1: FutureWarning: The pandas.datetime class is deprecated and will be removed from pandas in a future version. Import from datetime module instead.\n",
      "  dateparse = lambda dates: pd.datetime.strptime(dates, '%Y-%m-%d')\n"
     ]
    }
   ],
   "source": [
    "dateparse = lambda dates: pd.datetime.strptime(dates, '%Y-%m-%d')\n",
    "df1 = pd.read_csv('C:/Users/Rshs/Documents/python notebooks/mldatasets/TCS.csv',sep=',', index_col='Date', parse_dates=['Date'], date_parser=dateparse)\n"
   ]
  },
  {
   "cell_type": "code",
   "execution_count": 51,
   "id": "d4fa14fc",
   "metadata": {},
   "outputs": [
    {
     "data": {
      "text/plain": [
       "[<matplotlib.lines.Line2D at 0x22e6a77e7c0>]"
      ]
     },
     "execution_count": 51,
     "metadata": {},
     "output_type": "execute_result"
    },
    {
     "data": {
      "image/png": "[encoded data removed]",
      "text/plain": [
       "<Figure size 432x288 with 1 Axes>"
      ]
     },
     "metadata": {
      "needs_background": "light"
     },
     "output_type": "display_data"
    }
   ],
   "source": [
    "import matplotlib.pyplot as plt\n",
    "plt.plot(df1.Close)\n",
    "plt.plot(index)\n"
   ]
  },
  {
   "cell_type": "code",
   "execution_count": null,
   "id": "504ae46d",
   "metadata": {},
   "outputs": [],
   "source": []
  }
 ],
 "metadata": {
  "kernelspec": {
   "display_name": "Python 3 (ipykernel)",
   "language": "python",
   "name": "python3"
  },
  "language_info": {
   "codemirror_mode": {
    "name": "ipython",
    "version": 3
   },
   "file_extension": ".py",
   "mimetype": "text/x-python",
   "name": "python",
   "nbconvert_exporter": "python",
   "pygments_lexer": "ipython3",
   "version": "3.9.7"
  }
 },
 "nbformat": 4,
 "nbformat_minor": 5
}
